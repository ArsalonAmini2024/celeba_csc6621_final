{
 "cells": [
  {
   "cell_type": "markdown",
   "metadata": {},
   "source": [
    "This is the final project \"sandbox\" for CSC6621 - Arsalon's Version\n"
   ]
  },
  {
   "cell_type": "code",
   "execution_count": null,
   "metadata": {},
   "outputs": [],
   "source": [
    "# imports \n",
    "import os\n",
    "import subprocess\n",
    "import shutil\n",
    "import py7zr\n",
    "\n",
    "# not required if using the Docker Image \n",
    "import tensorflow as tf\n",
    "from tensorflow import keras\n",
    "from tensorflow.keras.preprocessing.image import ImageDataGenerator # type: ignore\n",
    "import matplotlib.pyplot as plt\n",
    "from sklearn.model_selection import train_test_split # type: ignore\n",
    "import numpy as np"
   ]
  },
  {
   "cell_type": "code",
   "execution_count": 2,
   "metadata": {},
   "outputs": [
    {
     "name": "stdout",
     "output_type": "stream",
     "text": [
      "Extraction successful.\n"
     ]
    }
   ],
   "source": [
    "from pyunpack import Archive\n",
    "\n",
    "# Define the path to the directory containing the split archive\n",
    "archive_directory = 'data/img_celeba.7z'\n",
    "\n",
    "# Specify the first file of the split archive\n",
    "first_part_path = os.path.join(archive_directory, 'img_celeba.7z.001')\n",
    "\n",
    "# Define the output directory for the extracted files\n",
    "output_directory = 'data/img_celeba_extracted'\n",
    "\n",
    "# Extract the archive\n",
    "try:\n",
    "    Archive(first_part_path).extractall(output_directory)\n",
    "    print(\"Extraction successful.\")\n",
    "except Exception as e:\n",
    "    print(\"Failed to extract:\", e)\n",
    "\n"
   ]
  },
  {
   "cell_type": "code",
   "execution_count": null,
   "metadata": {},
   "outputs": [],
   "source": [
    "# create train test subfolders\n",
    "\n",
    "# Path to the directory where all images are stored\n",
    "image_directory = os.path.join(output_directory, 'img_celeba')\n",
    "\n",
    "# Create directories for train and test datasets if they don't exist\n",
    "os.makedirs(train_dir, exist_ok=True)\n",
    "os.makedirs(test_dir, exist_ok=True)\n",
    "\n",
    "# Get all file names in the output directory\n",
    "all_files = [os.path.join(image_directory, f) for f in os.listdir(image_directory) if os.path.isfile(os.path.join(image_directory, f))]\n",
    "\n",
    "# Split files into train and test sets (80-20 split here)\n",
    "train_files, test_files = train_test_split(all_files, test_size=0.2, random_state=42)\n",
    "\n",
    "# Function to copy files to new directories\n",
    "def copy_files(files, directory):\n",
    "    for file in files:\n",
    "        shutil.copy(file, directory)\n",
    "\n",
    "# Copy files to respective directories\n",
    "copy_files(train_files, train_dir)\n",
    "copy_files(test_files, test_dir)\n",
    "\n",
    "print(\"Files successfully split into training and testing directories.\")\n"
   ]
  },
  {
   "cell_type": "markdown",
   "metadata": {},
   "source": [
    "ImageDataGenerator: \n",
    "\n",
    "-From Tensorflow helps performing operations such as rescaling, rotating, shifting, shearing, and flipping. \n",
    "-Reads images in large numbers from a directory and automatically feed them to the model in batches"
   ]
  },
  {
   "cell_type": "code",
   "execution_count": null,
   "metadata": {},
   "outputs": [],
   "source": [
    "# Create a Train-Test Split\n",
    "\n",
    "train_dir = os.path.join(output_directory, 'train')\n",
    "test_dir = os.path.join(output_directory, 'test')\n",
    "\n",
    "# Create data generators - allows us to feed images to the model in batches\n",
    "train_datagen = ImageDataGenerator(rescale=1./255, validation_split=0.2)  # Use 20% of training data for validation\n",
    "test_datagen = ImageDataGenerator(rescale=1./255) # rescale from (0,255) to (0,1)\n",
    "\n",
    "# Train  Generator \n",
    "train_generator = train_datagen.flow_from_directory(\n",
    "    train_dir,\n",
    "    target_size=(64, 64),  # Depending on your CNN input layer\n",
    "    batch_size=32,\n",
    "    class_mode='categorical',  \n",
    "    subset='training'  # Set as training data\n",
    ")\n",
    "\n",
    "# Test Generator \n",
    "test_generator = test_datagen.flow_from_directory(\n",
    "    test_dir,\n",
    "    target_size=(64, 64),\n",
    "    batch_size=32,\n",
    "    class_mode='binary'\n",
    ")"
   ]
  },
  {
   "cell_type": "code",
   "execution_count": null,
   "metadata": {},
   "outputs": [],
   "source": [
    "# simple CNN for training\n",
    "\n",
    "from keras.models import Sequential # type: ignore\n",
    "from keras.layers import Conv2D, MaxPooling2D, Flatten, Dense, Dropout # type: ignore\n",
    "\n",
    "model = Sequential([\n",
    "    Conv2D(32, (3,3), activation='relu', input_shape=(128, 128, 3)),\n",
    "    MaxPooling2D(2, 2),\n",
    "    Conv2D(64, (3,3), activation='relu'),\n",
    "    MaxPooling2D(2,2),\n",
    "    Conv2D(128, (3,3), activation='relu'),\n",
    "    MaxPooling2D(2,2),\n",
    "    Flatten(),\n",
    "    Dense(512, activation='relu'),\n",
    "    Dropout(0.5),\n",
    "    Dense(1, activation='sigmoid')  # Use 'softmax' for categorical\n",
    "])\n",
    "\n",
    "model.compile(optimizer='adam', loss='binary_crossentropy', metrics=['accuracy'])\n"
   ]
  }
 ],
 "metadata": {
  "kernelspec": {
   "display_name": "myenv",
   "language": "python",
   "name": "python3"
  },
  "language_info": {
   "codemirror_mode": {
    "name": "ipython",
    "version": 3
   },
   "file_extension": ".py",
   "mimetype": "text/x-python",
   "name": "python",
   "nbconvert_exporter": "python",
   "pygments_lexer": "ipython3",
   "version": "3.11.5"
  }
 },
 "nbformat": 4,
 "nbformat_minor": 2
}
