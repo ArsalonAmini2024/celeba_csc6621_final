{
 "cells": [
  {
   "cell_type": "code",
   "execution_count": null,
   "metadata": {},
   "outputs": [],
   "source": [
    "# System Imports\n",
    "import os\n",
    "import subprocess\n",
    "import shutil\n",
    "\n",
    "# Pre Processing Imports \n",
    "import matplotlib.pyplot as plt \n",
    "from sklearn.model_selection import train_test_split \n",
    "import numpy as np \n",
    "import pandas as pd\n",
    "\n",
    "# Deep Learning Imports \n",
    "import tensorflow as tf\n",
    "from tensorflow import keras\n",
    "\n",
    "from keras.preprocessing.image import ImageDataGenerator\n",
    "from keras.models import Sequential\n",
    "from keras.layers import Conv2D, MaxPooling2D, Flatten, Dense, Dropout\n",
    "\n",
    "from keras.applications.resnet50 import ResNet50, preprocess_input\n",
    "from keras.optimizers import Adam\n",
    "\n",
    "from keras.applications import ResNet50\n",
    "from keras.layers import GlobalAveragePooling2D, Dense\n",
    "from keras.models import Model"
   ]
  },
  {
   "cell_type": "code",
   "execution_count": null,
   "metadata": {},
   "outputs": [],
   "source": [
    "# Load the identity file into a DataFrame\n",
    "df = pd.read_csv('/data/identity_CelebA.txt', delim_whitespace=True, header=None, names=['filename', 'label'])\n",
    "\n",
    "# create train test splits based on the txt file (containing file names and labels)\n",
    "train_df, test_df = train_test_split(df, test_size=0.2, stratify=df['label'])\n"
   ]
  },
  {
   "cell_type": "code",
   "execution_count": null,
   "metadata": {},
   "outputs": [],
   "source": [
    "# Move the actual images to the respective folders based on the train-test split of the labels \n",
    "def move_images(df, source_dir, target_dir):\n",
    "    os.makedirs(target_dir, exist_ok=True)  # Ensure target directory exists\n",
    "    for filename in df['filename']:\n",
    "        shutil.move(os.path.join(source_dir, filename), os.path.join(target_dir, filename))\n",
    "\n",
    "source_directory = 'data/img_align_celeba'\n",
    "train_directory = 'data/train'\n",
    "test_directory = 'data/test'\n",
    "\n",
    "# Move train and test images\n",
    "move_images(train_df, source_directory, train_directory)\n",
    "move_images(test_df, source_directory, test_directory)"
   ]
  },
  {
   "cell_type": "code",
   "execution_count": null,
   "metadata": {},
   "outputs": [],
   "source": [
    "# Define image size and batch size\n",
    "image_size = (224, 224)  # Size expected by ResNet\n",
    "batch_size = 32\n",
    "\n",
    "# Data generators for train and test sets\n",
    "train_datagen = ImageDataGenerator(preprocessing_function=preprocess_input)\n",
    "test_datagen = ImageDataGenerator(preprocessing_function=preprocess_input)\n",
    "\n",
    "train_generator = train_datagen.flow_from_directory(\n",
    "    train_directory,\n",
    "    target_size=image_size,\n",
    "    batch_size=batch_size,\n",
    "    class_mode='sparse'\n",
    ")\n",
    "\n",
    "test_generator = test_datagen.flow_from_directory(\n",
    "    test_directory,\n",
    "    target_size=image_size,\n",
    "    batch_size=batch_size,\n",
    "    class_mode='sparse'\n",
    ")\n",
    "\n",
    "# Load ResNet50 model, pre-trained on ImageNet, excluding the top layer\n",
    "base_model = ResNet50(weights='imagenet', include_top=False, input_shape=(224, 224, 3))\n",
    "\n",
    "# Freeze the layers of the base_model\n",
    "for layer in base_model.layers:\n",
    "    layer.trainable = False\n",
    "\n",
    "# Build the model\n",
    "model = Sequential([\n",
    "    base_model,\n",
    "    Flatten(),\n",
    "    Dense(1024, activation='relu'),\n",
    "    Dense(len(train_generator.class_indices), activation='softmax')  # Output layer for classification\n",
    "])\n",
    "\n",
    "# Compile the model\n",
    "model.compile(optimizer=Adam(), loss='sparse_categorical_crossentropy', metrics=['accuracy'])\n",
    "\n",
    "# Train the model\n",
    "model.fit(train_generator, validation_data=test_generator, epochs=10)"
   ]
  }
 ],
 "metadata": {
  "kernelspec": {
   "display_name": "base",
   "language": "python",
   "name": "python3"
  },
  "language_info": {
   "codemirror_mode": {
    "name": "ipython",
    "version": 3
   },
   "file_extension": ".py",
   "mimetype": "text/x-python",
   "name": "python",
   "nbconvert_exporter": "python",
   "pygments_lexer": "ipython3",
   "version": "3.12.2"
  }
 },
 "nbformat": 4,
 "nbformat_minor": 2
}
